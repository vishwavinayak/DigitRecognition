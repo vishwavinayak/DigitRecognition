{
 "cells": [
  {
   "cell_type": "code",
   "execution_count": 60,
   "metadata": {},
   "outputs": [],
   "source": [
    "import numpy as np\n",
    "import matplotlib\n",
    "import matplotlib.pyplot as plt\n",
    "import random\n"
   ]
  },
  {
   "cell_type": "markdown",
   "metadata": {},
   "source": [
    "## Loading data"
   ]
  },
  {
   "cell_type": "code",
   "execution_count": 61,
   "metadata": {},
   "outputs": [
    {
     "name": "stdout",
     "output_type": "stream",
     "text": [
      "Shape of X_train: (1000, 784)\n",
      "Shape of Y_train: (1000, 10)\n",
      "Shape of X_test: (350, 784)\n",
      "Shape of Y_test: (350, 10)\n"
     ]
    }
   ],
   "source": [
    "X_train = np.loadtxt('train_X.csv', delimiter=',')\n",
    "Y_train = np.loadtxt('train_label.csv', delimiter=',')\n",
    "X_test = np.loadtxt('test_X.csv', delimiter=',')\n",
    "Y_test = np.loadtxt('test_label.csv', delimiter=',')\n",
    "\n",
    "print(\"Shape of X_train:\", X_train.shape)\n",
    "print(\"Shape of Y_train:\", Y_train.shape)\n",
    "print(\"Shape of X_test:\", X_test.shape)\n",
    "print(\"Shape of Y_test:\", Y_test.shape)\n"
   ]
  },
  {
   "cell_type": "markdown",
   "metadata": {},
   "source": [
    "## Visualizing a random sample"
   ]
  },
  {
   "cell_type": "markdown",
   "metadata": {},
   "source": []
  },
  {
   "cell_type": "code",
   "execution_count": 62,
   "metadata": {},
   "outputs": [
    {
     "data": {
      "image/png": "[encoded data removed]",
      "text/plain": [
       "<Figure size 640x480 with 1 Axes>"
      ]
     },
     "metadata": {},
     "output_type": "display_data"
    }
   ],
   "source": [
    "index = random.randrange(0, X_train.shape[0])\n",
    "plt.imshow(X_train[index].reshape((28, 28)), cmap='gray')\n",
    "plt.show()"
   ]
  },
  {
   "cell_type": "markdown",
   "metadata": {},
   "source": [
    "## Activation functions"
   ]
  },
  {
   "cell_type": "code",
   "execution_count": 63,
   "metadata": {},
   "outputs": [],
   "source": [
    "def relu(x):\n",
    "    return np.maximum(x, 0)\n",
    "\n",
    "def softmax(x):\n",
    "    expX = np.exp(x - np.max(x)) # Subtracting max(x) for numerical stability\n",
    "    return expX / np.sum(expX, axis=0, keepdims=True)"
   ]
  },
  {
   "cell_type": "markdown",
   "metadata": {},
   "source": [
    "## Initialize parameters"
   ]
  },
  {
   "cell_type": "code",
   "execution_count": 64,
   "metadata": {},
   "outputs": [],
   "source": [
    "def initialize_parameters(n_x, n_h, n_y):\n",
    "    np.random.seed(0)\n",
    "    w1 = np.random.randn(n_h, n_x) * 0.01\n",
    "    b1 = np.zeros((n_h, 1))\n",
    "    w2 = np.random.randn(n_y, n_h) * 0.01\n",
    "    b2 = np.zeros((n_y, 1))\n",
    "    parameters = {\n",
    "        \"w1\": w1,\n",
    "        \"b1\": b1,\n",
    "        \"w2\": w2,\n",
    "        \"b2\": b2\n",
    "    }\n",
    "    return parameters"
   ]
  },
  {
   "cell_type": "markdown",
   "metadata": {},
   "source": [
    "## Forward propagation"
   ]
  },
  {
   "cell_type": "code",
   "execution_count": 65,
   "metadata": {},
   "outputs": [],
   "source": [
    "def forward_propagation(x, parameters):\n",
    "    w1 = parameters['w1']\n",
    "    b1 = parameters['b1']\n",
    "    w2 = parameters['w2']\n",
    "    b2 = parameters['b2']\n",
    "    z1 = np.dot(w1, x) + b1\n",
    "    a1 = relu(z1)\n",
    "    z2 = np.dot(w2, a1) + b2\n",
    "    a2 = softmax(z2)\n",
    "    forward_outputs = {\n",
    "        \"z1\": z1,\n",
    "        \"a1\": a1,\n",
    "        \"z2\": z2,\n",
    "        \"a2\": a2\n",
    "    }\n",
    "    return forward_outputs"
   ]
  },
  {
   "cell_type": "markdown",
   "metadata": {},
   "source": [
    "## Cost function"
   ]
  },
  {
   "cell_type": "code",
   "execution_count": 66,
   "metadata": {},
   "outputs": [],
   "source": [
    "def cost_function(a2, y):\n",
    "    m = y.shape[1]\n",
    "    cost = -(1 / m) * np.sum(np.nan_to_num(y * np.log(a2))) # Using np.nan_to_num to handle NaN values\n",
    "    return cost\n"
   ]
  },
  {
   "cell_type": "markdown",
   "metadata": {},
   "source": [
    "## Backward propagation"
   ]
  },
  {
   "cell_type": "code",
   "execution_count": 67,
   "metadata": {},
   "outputs": [],
   "source": [
    "def backward_propagation(x, y, parameters, forward_outputs):\n",
    "    w1 = parameters['w1']\n",
    "    w2 = parameters['w2']\n",
    "    a1 = forward_outputs['a1']\n",
    "    a2 = forward_outputs['a2']\n",
    "    m = x.shape[1]\n",
    "    dz2 = (a2 - y)\n",
    "    dw2 = (1 / m) * np.dot(dz2, a1.T)\n",
    "    db2 = (1 / m) * np.sum(dz2, axis=1, keepdims=True)\n",
    "    dz1 = np.dot(w2.T, dz2) * (a1 > 0) # ReLU derivative\n",
    "    dw1 = (1 / m) * np.dot(dz1, x.T)\n",
    "    db1 = (1 / m) * np.sum(dz1, axis=1, keepdims=True)\n",
    "    gradients = {\n",
    "        \"dw1\": dw1,\n",
    "        \"db1\": db1,\n",
    "        \"dw2\": dw2,\n",
    "        \"db2\": db2\n",
    "    }\n",
    "    return gradients"
   ]
  },
  {
   "cell_type": "markdown",
   "metadata": {},
   "source": [
    "## Update parameters"
   ]
  },
  {
   "cell_type": "code",
   "execution_count": 68,
   "metadata": {},
   "outputs": [],
   "source": [
    "def update_parameters(parameters, gradients, learning_rate):\n",
    "    w1 = parameters['w1']\n",
    "    b1 = parameters['b1']\n",
    "    w2 = parameters['w2']\n",
    "    b2 = parameters['b2']\n",
    "    dw1 = gradients['dw1']\n",
    "    db1 = gradients['db1']\n",
    "    dw2 = gradients['dw2']\n",
    "    db2 = gradients['db2']\n",
    "    w1 = w1 - learning_rate * dw1\n",
    "    b1 = b1 - learning_rate * db1\n",
    "    w2 = w2 - learning_rate * dw2\n",
    "    b2 = b2 - learning_rate * db2\n",
    "    parameters = {\n",
    "        \"w1\": w1,\n",
    "        \"b1\": b1,\n",
    "        \"w2\": w2,\n",
    "        \"b2\": b2\n",
    "    }\n",
    "    return parameters"
   ]
  },
  {
   "cell_type": "markdown",
   "metadata": {},
   "source": [
    "## Model"
   ]
  },
  {
   "cell_type": "code",
   "execution_count": 69,
   "metadata": {},
   "outputs": [],
   "source": [
    "def model(x, y, n_h, learning_rate, iterations):\n",
    "    n_x = x.shape[0]\n",
    "    n_y = y.shape[0]\n",
    "    cost_list = []\n",
    "    parameters = initialize_parameters(n_x, n_h, n_y)\n",
    "    for i in range(iterations):\n",
    "        forward_cache = forward_propagation(x, parameters)\n",
    "        cost = cost_function(forward_cache['a2'], y)\n",
    "        gradients = backward_propagation(x, y, parameters, forward_cache)\n",
    "        parameters = update_parameters(parameters, gradients, learning_rate)\n",
    "        cost_list.append(cost)\n",
    "        if i % (iterations / 10) == 0:\n",
    "            print(\"Cost after\", i, \"iterations is:\", cost)\n",
    "    return parameters, cost_list\n"
   ]
  },
  {
   "cell_type": "markdown",
   "metadata": {},
   "source": [
    "Parameters"
   ]
  },
  {
   "cell_type": "code",
   "execution_count": 70,
   "metadata": {},
   "outputs": [],
   "source": [
    "iterations = 100\n",
    "n_h = 1000\n",
    "learning_rate = 0.001"
   ]
  },
  {
   "cell_type": "markdown",
   "metadata": {},
   "source": [
    "## Training the model"
   ]
  },
  {
   "cell_type": "code",
   "execution_count": 71,
   "metadata": {},
   "outputs": [
    {
     "name": "stdout",
     "output_type": "stream",
     "text": [
      "Cost after 0 iterations is: 9.709250252918498\n",
      "Cost after 10 iterations is: 0.41753077371369085\n",
      "Cost after 20 iterations is: 0.17587366053706796\n",
      "Cost after 30 iterations is: 0.09688153669154119\n",
      "Cost after 40 iterations is: 0.06134823624826943\n",
      "Cost after 50 iterations is: 0.044239620105938335\n",
      "Cost after 60 iterations is: 0.034885886937154456\n",
      "Cost after 70 iterations is: 0.028901580464840065\n",
      "Cost after 80 iterations is: 0.024707602394292663\n",
      "Cost after 90 iterations is: 0.02159133225988365\n"
     ]
    }
   ],
   "source": [
    "Parameters, Cost_list = model(X_train.T, Y_train.T, n_h, learning_rate, iterations)"
   ]
  },
  {
   "cell_type": "markdown",
   "metadata": {},
   "source": [
    "##  Plotting the cost"
   ]
  },
  {
   "cell_type": "code",
   "execution_count": 72,
   "metadata": {},
   "outputs": [
    {
     "data": {
      "image/png": "[encoded data removed]",
      "text/plain": [
       "<Figure size 640x480 with 1 Axes>"
      ]
     },
     "metadata": {},
     "output_type": "display_data"
    }
   ],
   "source": [
    "t = np.arange(0, iterations)\n",
    "plt.plot(t, Cost_list)\n",
    "plt.xlabel('Iterations')\n",
    "plt.ylabel('Cost')\n",
    "plt.title('Cost vs Iterations')\n",
    "plt.show()\n"
   ]
  },
  {
   "cell_type": "markdown",
   "metadata": {},
   "source": [
    "Accuracy function"
   ]
  },
  {
   "cell_type": "code",
   "execution_count": 73,
   "metadata": {},
   "outputs": [],
   "source": [
    "def accuracy(inp, labels, parameters):\n",
    "    forward_cache = forward_propagation(inp, parameters)\n",
    "    a_out = forward_cache['a2']\n",
    "    a_out = np.argmax(a_out, axis=0)\n",
    "    labels = np.argmax(labels, axis=0)\n",
    "    acc = np.mean(a_out == labels) * 100\n",
    "    return acc\n"
   ]
  },
  {
   "cell_type": "markdown",
   "metadata": {},
   "source": [
    "Evaluating accuracy on train and test datasets"
   ]
  },
  {
   "cell_type": "code",
   "execution_count": 74,
   "metadata": {},
   "outputs": [
    {
     "name": "stdout",
     "output_type": "stream",
     "text": [
      "Accuracy of Train Dataset: 100.0 %\n",
      "Accuracy of Test Dataset: 85.14 %\n"
     ]
    }
   ],
   "source": [
    "print(\"Accuracy of Train Dataset:\", accuracy(X_train.T, Y_train.T, Parameters), \"%\")\n",
    "print(\"Accuracy of Test Dataset:\", round(accuracy(X_test.T, Y_test.T, Parameters), 2), \"%\")\n"
   ]
  },
  {
   "cell_type": "markdown",
   "metadata": {},
   "source": [
    "Visualizing a random sample from test dataset"
   ]
  },
  {
   "cell_type": "code",
   "execution_count": 75,
   "metadata": {},
   "outputs": [
    {
     "data": {
      "image/png": "[encoded data removed]",
      "text/plain": [
       "<Figure size 640x480 with 1 Axes>"
      ]
     },
     "metadata": {},
     "output_type": "display_data"
    }
   ],
   "source": [
    "idx = random.randrange(0, X_test.shape[0])\n",
    "plt.imshow(X_test[idx].reshape((28, 28)), cmap='gray')\n",
    "plt.show()\n"
   ]
  },
  {
   "cell_type": "markdown",
   "metadata": {},
   "source": [
    "Making predictions"
   ]
  },
  {
   "cell_type": "code",
   "execution_count": 76,
   "metadata": {},
   "outputs": [
    {
     "name": "stdout",
     "output_type": "stream",
     "text": [
      "Our model says it is: 8\n"
     ]
    }
   ],
   "source": [
    "cache = forward_propagation(X_test[idx].reshape(X_test[idx].shape[0], 1), Parameters)\n",
    "a_pred = cache['a2']\n",
    "a_pred = np.argmax(a_pred, axis=0)\n",
    "print(\"Our model says it is:\", a_pred[0])\n"
   ]
  }
 ],
 "metadata": {
  "kernelspec": {
   "display_name": "base",
   "language": "python",
   "name": "python3"
  },
  "language_info": {
   "codemirror_mode": {
    "name": "ipython",
    "version": 3
   },
   "file_extension": ".py",
   "mimetype": "text/x-python",
   "name": "python",
   "nbconvert_exporter": "python",
   "pygments_lexer": "ipython3",
   "version": "3.11.5"
  },
  "orig_nbformat": 4
 },
 "nbformat": 4,
 "nbformat_minor": 2
}
